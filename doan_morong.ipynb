{
  "nbformat": 4,
  "nbformat_minor": 0,
  "metadata": {
    "colab": {
      "name": "doan_morong",
      "provenance": [],
      "collapsed_sections": []
    },
    "kernelspec": {
      "name": "python3",
      "display_name": "Python 3"
    }
  },
  "cells": [
    {
      "cell_type": "code",
      "metadata": {
        "id": "l5j3-tlrfn3N",
        "colab": {
          "base_uri": "https://localhost:8080/"
        },
        "outputId": "bb37169b-9278-4910-bdbd-b75e361f9835"
      },
      "source": [
        "!wget https://bin.equinox.io/c/4VmDzA7iaHb/ngrok-stable-linux-amd64.zip\n",
        "!ls\n",
        "!unzip ngrok-stable-linux-amd64.zip"
      ],
      "execution_count": null,
      "outputs": [
        {
          "output_type": "stream",
          "text": [
            "--2020-12-10 23:37:29--  https://bin.equinox.io/c/4VmDzA7iaHb/ngrok-stable-linux-amd64.zip\n",
            "Resolving bin.equinox.io (bin.equinox.io)... 34.195.187.253, 52.2.56.23, 35.174.46.144, ...\n",
            "Connecting to bin.equinox.io (bin.equinox.io)|34.195.187.253|:443... connected.\n",
            "HTTP request sent, awaiting response... 200 OK\n",
            "Length: 13773305 (13M) [application/octet-stream]\n",
            "Saving to: ‘ngrok-stable-linux-amd64.zip’\n",
            "\n",
            "ngrok-stable-linux- 100%[===================>]  13.13M  19.0MB/s    in 0.7s    \n",
            "\n",
            "2020-12-10 23:37:30 (19.0 MB/s) - ‘ngrok-stable-linux-amd64.zip’ saved [13773305/13773305]\n",
            "\n",
            "drv  ngrok-stable-linux-amd64.zip\n",
            "Archive:  ngrok-stable-linux-amd64.zip\n",
            "  inflating: ngrok                   \n"
          ],
          "name": "stdout"
        }
      ]
    },
    {
      "cell_type": "code",
      "metadata": {
        "id": "-LfJY5REkZX5",
        "colab": {
          "base_uri": "https://localhost:8080/"
        },
        "outputId": "b15932a2-2520-47c9-e2d1-1d241ede37ff"
      },
      "source": [
        "!rm -rf /content/*"
      ],
      "execution_count": null,
      "outputs": [
        {
          "output_type": "stream",
          "text": [
            "^C\n"
          ],
          "name": "stdout"
        }
      ]
    },
    {
      "cell_type": "code",
      "metadata": {
        "id": "azwhWqA0kalo",
        "colab": {
          "base_uri": "https://localhost:8080/"
        },
        "outputId": "b27289bf-3fc8-4eb2-8644-f0a220a65ab4"
      },
      "source": [
        "!mkdir /content/drv\n",
        "from google.colab import drive\n",
        "drive.mount('/content/drv')"
      ],
      "execution_count": null,
      "outputs": [
        {
          "output_type": "stream",
          "text": [
            "mkdir: cannot create directory ‘/content/drv’: File exists\n",
            "Drive already mounted at /content/drv; to attempt to forcibly remount, call drive.mount(\"/content/drv\", force_remount=True).\n"
          ],
          "name": "stdout"
        }
      ]
    },
    {
      "cell_type": "code",
      "metadata": {
        "id": "jKZVzpTAkcEQ"
      },
      "source": [
        "SOURCE = \"/content/drv/My Drive/DOAN_201/DAMH\"\n",
        "\n",
        "TRAIN_DIR   = SOURCE + \"/Dataset/PlantVillage\" + \"/train\"\n",
        "VALID_DIR   = SOURCE + \"/Dataset/PlantVillage\" + \"/valid\"\n",
        "\n",
        "MODEL_DIR   = SOURCE + \"/models\"\n",
        "LOG_DIR     = SOURCE + \"/logs\""
      ],
      "execution_count": null,
      "outputs": []
    },
    {
      "cell_type": "code",
      "metadata": {
        "id": "9tV-WJc-k09r",
        "colab": {
          "base_uri": "https://localhost:8080/"
        },
        "outputId": "1bad8c7a-629f-4aa5-84c1-d6dce1988096"
      },
      "source": [
        "%load_ext tensorboard\n",
        "from datetime import datetime\n",
        "from packaging import version"
      ],
      "execution_count": null,
      "outputs": [
        {
          "output_type": "stream",
          "text": [
            "The tensorboard extension is already loaded. To reload it, use:\n",
            "  %reload_ext tensorboard\n"
          ],
          "name": "stdout"
        }
      ]
    },
    {
      "cell_type": "code",
      "metadata": {
        "id": "dg73NK_Rk4vw",
        "colab": {
          "base_uri": "https://localhost:8080/"
        },
        "outputId": "2d98c4ab-c243-4a4c-b3f8-b0d837ec3597"
      },
      "source": [
        "try:\n",
        "  # %tensorflow_version only exists in Colab.\n",
        "  %tensorflow_version 2.x\n",
        "except Exception:\n",
        "  pass\n",
        "import tensorflow as tf\n",
        "import json\n",
        "import datetime\n",
        "import os\n",
        "\n",
        "LEARNING_RATE = 0.0001\n",
        "batch_size = 64\n",
        "img_height = 299\n",
        "img_width = 299\n",
        "\n",
        "IMAGE_SIZE  = (img_height, img_width)\n",
        "\n",
        "with open(SOURCE+ '/Dataset/PlantVillage/categories.json', 'r') as f:\n",
        "    cat_to_name = json.load(f)\n",
        "    classes = list(cat_to_name.values())\n",
        "\n",
        "print(classes)"
      ],
      "execution_count": null,
      "outputs": [
        {
          "output_type": "stream",
          "text": [
            "['Apple___Apple_scab', 'Apple___Black_rot', 'Apple___Cedar_apple_rust', 'Apple___healthy', 'Blueberry___healthy', 'Cherry_(including_sour)___Powdery_mildew', 'Cherry_(including_sour)___healthy', 'Corn_(maize)___Cercospora_leaf_spot Gray_leaf_spot', 'Corn_(maize)___Common_rust_', 'Corn_(maize)___Northern_Leaf_Blight', 'Corn_(maize)___healthy', 'Grape___Black_rot', 'Grape___Esca_(Black_Measles)', 'Grape___Leaf_blight_(Isariopsis_Leaf_Spot)', 'Grape___healthy', 'Khong___phai_la', 'Orange___Haunglongbing_(Citrus_greening)', 'Peach___Bacterial_spot', 'Peach___healthy', 'Pepper,_bell___Bacterial_spot', 'Pepper,_bell___healthy', 'Potato___Early_blight', 'Potato___Late_blight', 'Potato___healthy', 'Raspberry___healthy']\n"
          ],
          "name": "stdout"
        }
      ]
    },
    {
      "cell_type": "code",
      "metadata": {
        "id": "kO2Xgd7fk6s3",
        "colab": {
          "base_uri": "https://localhost:8080/"
        },
        "outputId": "d97736e5-cc99-419e-f918-576dbe5b2201"
      },
      "source": [
        "train_datagen = tf.keras.preprocessing.image.ImageDataGenerator(\n",
        "    rescale = 1./255,\n",
        "    rotation_range=45,#0\n",
        "    horizontal_flip=True,\n",
        "    vertical_flip=True,\n",
        "    width_shift_range=0.15, #0\n",
        "    height_shift_range=0.15, #0\n",
        "    shear_range=0.1,\n",
        "    zoom_range=0.5, #0\n",
        "    fill_mode='nearest')\n",
        "\n",
        "train_generator = train_datagen.flow_from_directory(\n",
        "    TRAIN_DIR, \n",
        "    subset=\"training\", \n",
        "    shuffle=True, \n",
        "    seed=42,\n",
        "    color_mode=\"rgb\", \n",
        "    class_mode=\"categorical\",  \n",
        "    target_size=IMAGE_SIZE,\n",
        "    batch_size=batch_size)\n",
        "\n",
        "# valid_datagen = tf.keras.preprocessing.image.ImageDataGenerator(\n",
        "#     rescale = 1./255,\n",
        "#     rotation_range=45,#0\n",
        "#     horizontal_flip=True,\n",
        "#     vertical_flip=True,\n",
        "#     width_shift_range=0.15, #0\n",
        "#     height_shift_range=0.15, #0\n",
        "#     shear_range=0.1,\n",
        "#     zoom_range=0.5, #0\n",
        "#     fill_mode='nearest')\n",
        "##################################################\n",
        "\n",
        "\n",
        "\n",
        "\n",
        "# valid_generator = valid_datagen.flow_from_directory(\n",
        "#     VALID_DIR, \n",
        "#     shuffle=True, \n",
        "#     seed=42,\n",
        "#     color_mode=\"rgb\", \n",
        "#     class_mode=\"categorical\",\n",
        "#     target_size=IMAGE_SIZE,\n",
        "#     batch_size=batch_size)"
      ],
      "execution_count": null,
      "outputs": [
        {
          "output_type": "stream",
          "text": [
            "Found 19744 images belonging to 25 classes.\n"
          ],
          "name": "stdout"
        }
      ]
    },
    {
      "cell_type": "code",
      "metadata": {
        "id": "FL6ANdh-lDgv",
        "colab": {
          "base_uri": "https://localhost:8080/"
        },
        "outputId": "761a8f89-bdea-4f99-f8b3-eb5f6133f7df"
      },
      "source": [
        "batch_size = 128\n",
        "epochs = 15\n",
        "IMG_HEIGHT = 150\n",
        "IMG_WIDTH = 150\n",
        "model = tf.keras.Sequential([\n",
        "    tf.keras.applications.InceptionV3(input_shape=(img_height,img_width)+(3,),include_top=False, weights='imagenet'),\n",
        "    tf.keras.layers.Flatten(),\n",
        "    tf.keras.layers.Dense(512, activation='relu'),\n",
        "    tf.keras.layers.Dropout(rate=0.2),\n",
        "    tf.keras.layers.Dense(train_generator.num_classes, activation='softmax',\n",
        "                           kernel_regularizer=tf.keras.regularizers.l2(0.0001))\n",
        "])\n",
        "\n",
        "\n",
        "latest = tf.train.latest_checkpoint(MODEL_DIR)\n",
        "if latest:\n",
        "    print(\"*\"*50)\n",
        "    print(\"Load weight from last\")\n",
        "    print(latest)\n",
        "    model.load_weights(latest)\n",
        "    print(\"*\"*50)\n",
        "\n",
        "model.compile(\n",
        "   optimizer=tf.keras.optimizers.Adam(lr=LEARNING_RATE), \n",
        "   loss='categorical_crossentropy',\n",
        "   metrics=['accuracy'])\n",
        "\n",
        "model.summary()"
      ],
      "execution_count": null,
      "outputs": [
        {
          "output_type": "stream",
          "text": [
            "Downloading data from https://storage.googleapis.com/tensorflow/keras-applications/inception_v3/inception_v3_weights_tf_dim_ordering_tf_kernels_notop.h5\n",
            "87916544/87910968 [==============================] - 1s 0us/step\n",
            "Model: \"sequential\"\n",
            "_________________________________________________________________\n",
            "Layer (type)                 Output Shape              Param #   \n",
            "=================================================================\n",
            "inception_v3 (Functional)    (None, 8, 8, 2048)        21802784  \n",
            "_________________________________________________________________\n",
            "flatten (Flatten)            (None, 131072)            0         \n",
            "_________________________________________________________________\n",
            "dense (Dense)                (None, 512)               67109376  \n",
            "_________________________________________________________________\n",
            "dropout (Dropout)            (None, 512)               0         \n",
            "_________________________________________________________________\n",
            "dense_1 (Dense)              (None, 25)                12825     \n",
            "=================================================================\n",
            "Total params: 88,924,985\n",
            "Trainable params: 88,890,553\n",
            "Non-trainable params: 34,432\n",
            "_________________________________________________________________\n"
          ],
          "name": "stdout"
        }
      ]
    },
    {
      "cell_type": "code",
      "metadata": {
        "id": "cz63tNfolEXP"
      },
      "source": [
        "now = datetime.datetime.now().strftime(\"%Y-%m-%d--%H-%M-%S\")\n",
        "\n",
        "if not os.path.isdir(LOG_DIR):\n",
        "    os.mkdir(LOG_DIR)\n",
        "\n",
        "tensorboard_callback = tf.keras.callbacks.TensorBoard(log_dir=LOG_DIR, histogram_freq=1, update_freq='batch',profile_batch=0)\n",
        "\n",
        "if not os.path.isdir(MODEL_DIR):\n",
        "    os.mkdir(MODEL_DIR)\n",
        "\n",
        "checkpoint_path = MODEL_DIR + \"/cp-\" + now + \"-{epoch:04d}.ckpt\"\n",
        "checkpoint_callback = tf.keras.callbacks.ModelCheckpoint(\n",
        "    checkpoint_path, verbose=1, save_weights_only=True,\n",
        "    save_freq='epoch')\n",
        "\n",
        "#tensorboard_callback = tf.keras.callbacks.TensorBoard(log_dir=logdir)"
      ],
      "execution_count": null,
      "outputs": []
    },
    {
      "cell_type": "code",
      "metadata": {
        "id": "a99TZ1galG_u"
      },
      "source": [
        "EPOCHS=3 #@param {type:\"integer\"}\n",
        "STEPS_EPOCHS = train_generator.samples//train_generator.batch_size"
      ],
      "execution_count": null,
      "outputs": []
    },
    {
      "cell_type": "code",
      "metadata": {
        "id": "gHe22tSplIkA",
        "colab": {
          "base_uri": "https://localhost:8080/"
        },
        "outputId": "dc17eed0-9c75-4825-f64f-a9b4e3e8e12f"
      },
      "source": [
        "history = model.fit_generator( \n",
        "          train_generator,\n",
        "          steps_per_epoch=STEPS_EPOCHS,\n",
        "          epochs=EPOCHS,\n",
        "          # validation_data = valid_generator,\n",
        "          callbacks=[tensorboard_callback,checkpoint_callback]\n",
        "          )"
      ],
      "execution_count": null,
      "outputs": [
        {
          "output_type": "stream",
          "text": [
            "WARNING:tensorflow:From <ipython-input-27-630f13cca306>:6: Model.fit_generator (from tensorflow.python.keras.engine.training) is deprecated and will be removed in a future version.\n",
            "Instructions for updating:\n",
            "Please use Model.fit, which supports generators.\n",
            "Epoch 1/3\n",
            "308/308 [==============================] - ETA: 0s - loss: 0.7786 - accuracy: 0.8247 \n",
            "Epoch 00001: saving model to /content/drv/My Drive/DOAN_201/DAMH/models/cp-2020-12-10--23-38-39-0001.ckpt\n",
            "308/308 [==============================] - 15455s 50s/step - loss: 0.7786 - accuracy: 0.8247\n",
            "Epoch 2/3\n",
            "308/308 [==============================] - ETA: 0s - loss: 0.1100 - accuracy: 0.9693 \n",
            "Epoch 00002: saving model to /content/drv/My Drive/DOAN_201/DAMH/models/cp-2020-12-10--23-38-39-0002.ckpt\n",
            "308/308 [==============================] - 15423s 50s/step - loss: 0.1100 - accuracy: 0.9693\n",
            "Epoch 3/3\n",
            "215/308 [===================>..........] - ETA: 1:17:34 - loss: 0.0800 - accuracy: 0.9773"
          ],
          "name": "stdout"
        }
      ]
    },
    {
      "cell_type": "code",
      "metadata": {
        "id": "4HOQ8zKqY082"
      },
      "source": [
        "test_datagen = tf.keras.preprocessing.image.ImageDataGenerator(\n",
        "    rescale = 1./255,\n",
        "    rotation_range=40,\n",
        "    horizontal_flip=True,\n",
        "    width_shift_range=0.2, \n",
        "    height_shift_range=0.2,\n",
        "    shear_range=0.2, \n",
        "    zoom_range=0.2,\n",
        "    fill_mode='nearest')\n",
        "\n",
        "test_generator = test_datagen.flow_from_directory(\n",
        "    VALID_DIR, \n",
        "    subset=\"training\", \n",
        "    shuffle=True, \n",
        "    seed=42,\n",
        "    color_mode=\"rgb\", \n",
        "    class_mode=\"categorical\",\n",
        "    target_size=IMAGE_SIZE,\n",
        "    batch_size=BATCH_SIZE)"
      ],
      "execution_count": null,
      "outputs": []
    },
    {
      "cell_type": "code",
      "metadata": {
        "id": "v_V7z5rGY9IG"
      },
      "source": [
        "results = model.evaluate_generator(test_generator)\n",
        "print('test loss, test acc:', results)"
      ],
      "execution_count": null,
      "outputs": []
    }
  ]
}